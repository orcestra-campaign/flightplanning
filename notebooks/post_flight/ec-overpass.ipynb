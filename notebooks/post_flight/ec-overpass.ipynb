{
 "cells": [
  {
   "cell_type": "code",
   "execution_count": null,
   "metadata": {},
   "outputs": [],
   "source": [
    "\"\"\"Calculate time and distance of EarthCARE overpass\"\"\"\n",
    "\n",
    "from datetime import datetime\n",
    "import xarray as xr\n",
    "import orcestra.sat\n",
    "import orcestra.postprocess\n",
    "import orcestra.postprocess.level0\n",
    "import orcestra.postprocess.level1\n",
    "import matplotlib.pyplot as plt\n",
    "import seaborn as sns\n",
    "\n",
    "sig_ec = 360*60*1852/(90*600)/2.\n",
    "\n",
    "flight_names = ['HALO-20240811a','HALO-20240813a','HALO-20240816a','HALO-20240818a']\n",
    "\n",
    "print(\"WARNING -- this is hard wired to use Bahamas quick-look data, switch to quality controlled data as it becomes available \\n\\n\")\n",
    "\n",
    "print (f'Distances no better than temporal resolution of orbit +/ {sig_ec:3.0f} m')\n",
    "\n",
    "for flight_name in flight_names:\n",
    "    flight_date = flight_date = flight_name[5:9]+'-'+flight_name[9:11]+'-'+flight_name[11:13]\n",
    "    flight_time = datetime(int(flight_name[5:9]), int(flight_name[9:11]), int(flight_name[11:13]), 12, 0, 0)\n",
    "    ec_track = orcestra.sat.SattrackLoader(\"EARTHCARE\", f\"2024-08-{int(flight_name[11:13])-1:02d}\", kind=\"PRE\").get_track_for_day(f\"{flight_time:%Y-%m-%d}\")\n",
    "    ec_track = ec_track.sel(time=slice(f\"{flight_time:%Y-%m-%d} 06:00\", None))\n",
    "\n",
    "    halo = xr.open_dataset('/Volumes/ORCESTRA/'+flight_name+'/bahamas/QL_'+flight_name+'_BAHAMAS_V01.nc').pipe(orcestra.postprocess.level0.bahamas).sel(time=slice(ec_track.time[0],ec_track.time[-1]))\n",
    "    ec   = ec_track.interp(time=halo.time)\n",
    "    az12, az21, dist = orcestra.flightplan.geod.inv(ec.lon,ec.lat,halo.IRS_LON,halo.IRS_LAT)\n",
    "    print (f'{flight_name} underpass distance {dist.min():.0f} m at {halo.time[dist.argmin()].astype(str):.21s} s')\n",
    "\n",
    "    fig, ax = plt.subplots(\n",
    "        figsize=(7, 3),\n",
    "        facecolor='white'\n",
    "        )\n",
    "    ax.plot(halo.time,dist, label=f'{halo.time[dist.argmin()].astype(str):.21s} s')\n",
    "    ax.set_yscale('log')\n",
    "    ax.set_xlabel('Time / UTC')\n",
    "    ax.set_ylabel('distance / m')\n",
    "    plt.legend()\n",
    "    sns.despine(offset=10)\n",
    "\n",
    "#plt.savefig(f'{flight_index}_track.png')"
   ]
  },
  {
   "cell_type": "code",
   "execution_count": null,
   "metadata": {},
   "outputs": [],
   "source": []
  }
 ],
 "metadata": {
  "kernelspec": {
   "display_name": "Python 3",
   "language": "python",
   "name": "python3"
  },
  "language_info": {
   "codemirror_mode": {
    "name": "ipython",
    "version": 3
   },
   "file_extension": ".py",
   "mimetype": "text/x-python",
   "name": "python",
   "nbconvert_exporter": "python",
   "pygments_lexer": "ipython3",
   "version": "3.12.0"
  }
 },
 "nbformat": 4,
 "nbformat_minor": 2
}
