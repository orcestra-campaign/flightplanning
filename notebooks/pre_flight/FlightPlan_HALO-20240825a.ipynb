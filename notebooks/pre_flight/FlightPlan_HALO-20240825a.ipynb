{
 "cells": [
  {
   "cell_type": "code",
   "execution_count": null,
   "id": "c45e088a-835a-450c-b4e9-f48ee70a3057",
   "metadata": {},
   "outputs": [],
   "source": [
    "%load_ext autoreload\n",
    "%autoreload 2"
   ]
  },
  {
   "cell_type": "code",
   "execution_count": null,
   "id": "178a623b",
   "metadata": {},
   "outputs": [],
   "source": [
    "import cartopy.crs as ccrs\n",
    "import csv\n",
    "from dataclasses import asdict\n",
    "from datetime import datetime, timedelta\n",
    "import easygems.healpix as egh\n",
    "import intake\n",
    "import matplotlib.pyplot as plt\n",
    "import numpy as np\n",
    "import orcestra\n",
    "import orcestra.flightplan as fp\n",
    "import orcestra.sat\n",
    "from orcestra.flightplan import LatLon, IntoCircle, bco, sal, mindelo, find_ec_lon, vertical_preview, to_kml\n",
    "import pandas as pd"
   ]
  },
  {
   "cell_type": "code",
   "execution_count": null,
   "id": "2c3f410d",
   "metadata": {},
   "outputs": [],
   "source": [
    "# Define dates for forecast initialization and flight\n",
    "\n",
    "issued_time = datetime(2024, 8, 22, 0, 0, 0)\n",
    "\n",
    "flight_time = datetime(2024, 8, 25, 12, 0, 0)\n",
    "flight_index = f\"HALO-{flight_time.strftime('%Y%m%d')}a\"\n",
    "\n",
    "print(\n",
    "    f\"Initalization date of IFS forecast: {issued_time}\\n\"\n",
    "    f\"Flight date: {flight_time:%Y-%m-%d}\\n\"\n",
    "    f\"Flight index: {flight_index}\"\n",
    ")"
   ]
  },
  {
   "cell_type": "code",
   "execution_count": null,
   "id": "75f18c4c",
   "metadata": {},
   "outputs": [],
   "source": [
    "# Domain definition\n",
    "# TO DO: replace by global definition once it exists\n",
    "lon_min, lon_max, lat_min, lat_max = -65, -5, -10, 25"
   ]
  },
  {
   "cell_type": "code",
   "execution_count": null,
   "id": "d9112560",
   "metadata": {},
   "outputs": [],
   "source": [
    "# Load forecast data\n",
    "cat = intake.open_catalog(\"https://tcodata.mpimet.mpg.de/internal.yaml\")\n",
    "ds = cat.HIFS(datetime = issued_time).to_dask().pipe(egh.attach_coords)"
   ]
  },
  {
   "cell_type": "code",
   "execution_count": null,
   "id": "eb78ac3e-ccc6-443c-82fc-49741d0147dd",
   "metadata": {},
   "outputs": [],
   "source": [
    "# Load ec satellite track for \n",
    "ec_track = orcestra.sat.SattrackLoader(\"EARTHCARE\", \"2024-08-21\", kind=\"PRE\").get_track_for_day(f\"{flight_time:%Y-%m-%d}\")\n",
    "ec_track = ec_track.sel(time=slice(f\"{flight_time:%Y-%m-%d} 06:00\", None))\n",
    "ec_lons, ec_lats = ec_track.lon.values, ec_track.lat.values"
   ]
  },
  {
   "cell_type": "code",
   "execution_count": null,
   "id": "7dae8337-daf0-49d9-90e6-11f3d784f326",
   "metadata": {},
   "outputs": [],
   "source": [
    "def ec_time_at_lat(ec_track, lat):\n",
    "    e = np.datetime64(\"2024-08-01\")\n",
    "    s = np.timedelta64(1, \"ns\")\n",
    "    return (((ec_track.swap_dims({\"time\":\"lat\"}).time - e) / s).interp(lat=lat) * s + e)"
   ]
  },
  {
   "cell_type": "markdown",
   "id": "ee48eeba",
   "metadata": {},
   "source": [
    "**Waypoint definitions**"
   ]
  },
  {
   "cell_type": "code",
   "execution_count": null,
<<<<<<< HEAD
   "id": "1ae19d1f-fa18-4e02-9620-b575a01f62fc",
=======
   "id": "3bf674cc",
>>>>>>> 713dd6b (Adjusts track to meet EC in the north)
   "metadata": {},
   "outputs": [],
   "source": [
    "# Mass flux circle radius (m)\n",
    "radius = 130e3\n",
<<<<<<< HEAD
    "atr_radius = 70e3\n",
    "\n",
    "# Setting region (Cabo Verde vs. Barbados)\n",
    "airport = sal #bco\n",
    "\n",
    "# Latitudes where we enter and leave the ec track (visually estimated)\n",
    "lat_ec_north_out = 16.0\n",
    "lat_ec_north_in = 12.0\n",
    "lat_ec_south = 2.5\n",
    "\n",
=======
    "atr_radius = 70e3"
   ]
  },
  {
   "cell_type": "code",
   "execution_count": null,
   "id": "8ec8b7f4-593b-40f1-a025-4602bc41c87d",
   "metadata": {},
   "outputs": [],
   "source": [
    "# Setting region (Cabo Verde vs. Barbados)\n",
    "band = \"east\"\n",
    "airport = sal if band == \"east\" else bco"
   ]
  },
  {
   "cell_type": "code",
   "execution_count": null,
   "id": "d8c7ac11",
   "metadata": {},
   "outputs": [],
   "source": [
    "# Latitudes where we enter and leave the ec track (visually estimated)\n",
    "lat_ec_north_out = 16.0\n",
    "lat_ec_north_in = 12.0\n",
    "lat_ec_south = 2.5"
   ]
  },
  {
   "cell_type": "code",
   "execution_count": null,
   "id": "09b7682c",
   "metadata": {},
   "outputs": [],
   "source": [
>>>>>>> 713dd6b (Adjusts track to meet EC in the north)
    "# ITCZ edges visually estimated from iwv contours\n",
    "lat_c_south = 4.0\n",
    "lat_c_north = 10.0\n",
    "\n",
    "# Extra Points to give some flexibility with the circle locations\n",
    "lat_c_south_alt_s = 3.25\n",
    "lat_c_south_alt_n = 4.75\n",
    "\n",
    "lat_c_north_alt_s = 9.25\n",
    "lat_c_north_alt_n = 10.75"
   ]
  },
  {
   "cell_type": "code",
   "execution_count": null,
   "id": "2d02bed4",
   "metadata": {},
   "outputs": [],
   "source": [
    "# Setting lat/lon coordinates\n",
    "\n",
    "# Points where we get on ec track\n",
    "north_ec_in = LatLon(lat_ec_north_in, find_ec_lon(lat_ec_north_in, ec_lons, ec_lats), label = \"north_ec_in\")\n",
    "north_ec_out = LatLon(lat_ec_north_out, find_ec_lon(lat_ec_north_out, ec_lons, ec_lats), label = \"north_ec_out\")\n",
    "south_ec = LatLon(lat_ec_south, find_ec_lon(lat_ec_south, ec_lons, ec_lats), label = \"south_ec\")\n",
    "\n",
    "# Intersection of ITCZ edges with ec track\n",
    "c_north = LatLon(lat_c_north, find_ec_lon(lat_c_north, ec_lons, ec_lats), label = \"c_north\")\n",
    "c_south = LatLon(lat_c_south, find_ec_lon(lat_c_south, ec_lons, ec_lats), label = \"c_south\")\n",
    "\n",
    "# Center of middle circle\n",
    "c_mid = c_south.towards(c_north).assign(label = \"c_mid\")\n",
    "\n",
    "# EarthCARE underpass\n",
    "ec_under = c_north.towards(north_ec_out).assign(label = \"ec_under\")\n",
    "\n",
    "# ATR circle\n",
    "atr_circ = LatLon(17.433, -23.5, label = \"atr\")\n",
<<<<<<< HEAD
    "atr_circ_alt = LatLon(lat=16.084, lon=-21.819, label=\"atr_alt\")\n",
    "\n",
    "# Extra Points along the way\n",
    "c_south_alt_s = LatLon(lat_c_south_alt_s, find_ec_lon(lat_c_south_alt_s, ec_lons, ec_lats), label = \"c_south_alt_s\")\n",
    "c_south_alt_n = LatLon(lat_c_south_alt_n, find_ec_lon(lat_c_south_alt_n, ec_lons, ec_lats), label = \"c_south_alt_n\")\n",
    "\n",
    "c_north_alt_s = LatLon(lat_c_north_alt_s, find_ec_lon(lat_c_north_alt_s, ec_lons, ec_lats), label = \"c_north_alt_s\")\n",
    "c_north_alt_n = LatLon(lat_c_north_alt_n, find_ec_lon(lat_c_north_alt_n, ec_lons, ec_lats), label = \"c_north_alt_n\")\n",
=======
>>>>>>> 713dd6b (Adjusts track to meet EC in the north)
    "\n",
    "# Define flight track, can be split into different legs\n",
    "waypoints = [\n",
    "     airport.assign(time='2024-08-25T09:30:00Z'), \n",
    "     north_ec_in.assign(fl=400),\n",
    "     c_north.assign(fl=400),\n",
    "     c_mid.assign(fl=400),\n",
    "     c_south.assign(fl=400),\n",
    "     south_ec.assign(fl=430),\n",
<<<<<<< HEAD
    "     c_south_alt_s.assign(fl=430),\n",
    "     IntoCircle(c_south.assign(fl=430), radius, 360),  \n",
    "     c_south_alt_n.assign(fl=430),\n",
=======
    "     IntoCircle(c_south.assign(fl=430), radius, 360),  \n",
>>>>>>> 713dd6b (Adjusts track to meet EC in the north)
    "     IntoCircle(c_mid.assign(fl=430), radius, 360), \n",
    "     c_north_alt_s.assign(fl=430),\n",
    "     IntoCircle(c_north.assign(fl=450), radius, 360),\n",
<<<<<<< HEAD
    "     c_north_alt_n.assign(fl=450),\n",
    "     ec_under.assign(fl=450),\n",
    "     north_ec_out.assign(fl=450),\n",
    "     mindelo.assign(fl=450),\n",
    "     IntoCircle(atr_circ_alt.assign(fl=350), atr_radius, 360),\n",
=======
    "     ec_under.assign(fl=450),\n",
    "     north_ec_out.assign(fl=450),\n",
    "     mindelo.assign(fl=450),\n",
    "     IntoCircle(atr_circ.assign(fl=350), atr_radius, 360),\n",
>>>>>>> 713dd6b (Adjusts track to meet EC in the north)
    "     airport\n",
    "] \n",
    "\n",
    "path = fp.expand_path(waypoints, dx=10e3)"
   ]
  },
  {
   "cell_type": "code",
   "execution_count": null,
<<<<<<< HEAD
=======
   "id": "e0a60643-3e36-451f-97cc-f7defd04730a",
   "metadata": {},
   "outputs": [],
   "source": [
    "ec_time_at_lat(ec_track, ec_under.lat).values"
   ]
  },
  {
   "cell_type": "code",
   "execution_count": null,
>>>>>>> 713dd6b (Adjusts track to meet EC in the north)
   "id": "d54aab7a",
   "metadata": {},
   "outputs": [],
   "source": [
    "plt.figure(figsize = (12, 8))\n",
    "ax = plt.axes(projection=ccrs.PlateCarree())\n",
    "ax.set_extent([lon_min, lon_max, lat_min, lat_max], crs=ccrs.PlateCarree())\n",
    "ax.coastlines(alpha=1.0)\n",
    "ax.gridlines(draw_labels=True, dms=True, x_inline=False, y_inline=False, alpha = 0.25)\n",
    "\n",
    "cwv_flight_time = ds[\"tcwv\"].sel(time=flight_time, method = \"nearest\")\n",
    "fp.plot_cwv(cwv_flight_time, levels = [45.0, 48.0, 50.0, 52.0, 54.0])\n",
    "plt.title(f\"{flight_time}\\n(CWV forecast issued on {issued_time})\")\n",
    "\n",
    "plt.plot(ec_lons, ec_lats)\n",
    "fp.plot_path(path, ax, color=\"C1\")"
   ]
  },
  {
   "cell_type": "markdown",
   "id": "5a1c9bbd-119d-4829-9a67-b68466171cf9",
   "metadata": {},
   "source": [
    "crew:\n",
    "  - name: Julia Windmiller\n",
    "    job: PI\n",
    "  - name: Tanja Bodenbach\n",
    "    job: WALES\n",
    "  - name: Jakob Deutloff\n",
    "    job: HAMP\n",
    "  - name: Theresa Mieslinger\n",
    "    job: Dropsondes\n",
    "  - name: Kevin Wolf\n",
    "    job: Smart/VELOX\n",
    "  - name: tbd\n",
    "    job: SpecMACS\n",
    "  - name: Suelly Katiza\n",
    "    job: Scientist\n",
<<<<<<< HEAD
    "  - name: Nicolas Rochetin\n",
=======
    "  - name: tbd\n",
>>>>>>> 713dd6b (Adjusts track to meet EC in the north)
    "    job: Ground contact"
   ]
  },
  {
   "cell_type": "code",
   "execution_count": null,
   "id": "8208ce70-97ff-44e1-8ece-13d8b5974d61",
   "metadata": {},
   "outputs": [],
   "source": [
<<<<<<< HEAD
    "vertical_preview(waypoints)\n",
    "plt.ylabel(\"Flight level\")\n",
    "plt.xlabel(\"Distance / m\")"
=======
    "vertical_preview(waypoints)"
>>>>>>> 713dd6b (Adjusts track to meet EC in the north)
   ]
  },
  {
   "cell_type": "code",
   "execution_count": null,
   "id": "feefa0ac-b2d5-417a-9089-b29bd65171b8",
   "metadata": {},
   "outputs": [],
   "source": [
    "path.isel(distance = path.waypoint_indices).to_dataframe().set_index(\"waypoint_labels\")"
   ]
  },
  {
   "cell_type": "code",
   "execution_count": null,
   "id": "ab936de4-1723-4aa5-8c0a-49cf8507ffb8",
   "metadata": {},
   "outputs": [],
   "source": [
    "with open(f\"{flight_index}.kml\", \"w\") as f:\n",
    "    f.write(to_kml(path))"
   ]
  },
  {
   "cell_type": "code",
   "execution_count": null,
   "id": "b50f752a-0628-46b9-8eb4-d9c77ed74566",
   "metadata": {},
   "outputs": [],
   "source": [
    "points_fx_DM = []\n",
    "points_fx_DMmm = []\n",
    "\n",
    "for point in waypoints:\n",
    "    \n",
    "    if isinstance(point, IntoCircle):\n",
    "        point = point.center\n",
    "        \n",
    "    points_fx_DM.append(point.format_1min())\n",
    "    points_fx_DMmm.append(point.format_pilot())\n",
    "\n",
    "output_file = f\"waypoints_{flight_index}.txt\"\n",
    "\n",
    "with open(output_file, \"w\") as file:\n",
    "    file.write(\"DM\\n\")\n",
    "    file.write(\" \".join(points_fx_DM) + \"\\n\")\n",
    "    file.write(\"DMmm\\n\")\n",
    "    file.write(\" \".join(points_fx_DMmm) + \"\\n\")"
   ]
  },
  {
   "cell_type": "code",
   "execution_count": null,
   "id": "c01c3acf-f0b1-44e7-8c49-3fd721a12e34",
   "metadata": {},
   "outputs": [],
   "source": []
  }
 ],
 "metadata": {
  "kernelspec": {
   "display_name": "Python 3 (ipykernel)",
   "language": "python",
   "name": "python3"
  },
  "language_info": {
   "codemirror_mode": {
    "name": "ipython",
    "version": 3
   },
   "file_extension": ".py",
   "mimetype": "text/x-python",
   "name": "python",
   "nbconvert_exporter": "python",
   "pygments_lexer": "ipython3",
   "version": "3.12.5"
  },
  "vscode": {
   "interpreter": {
    "hash": "c00e5cef07046bc2f1467ae1539e8acd91ebfcd555857d394dae5bec1c9b15ea"
   }
  }
 },
 "nbformat": 4,
 "nbformat_minor": 5
}
