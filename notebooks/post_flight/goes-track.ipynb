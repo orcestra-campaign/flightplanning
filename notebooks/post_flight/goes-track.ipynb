{
 "cells": [
  {
   "cell_type": "code",
   "execution_count": 11,
   "metadata": {},
   "outputs": [
    {
     "name": "stdout",
     "output_type": "stream",
     "text": [
      "2024-08-11\n"
     ]
    }
   ],
   "source": [
    "flight_name = 'HALO-20240811a'\n",
    "flight_date = flight_date = flight_name[5:9]+'-'+flight_name[9:11]+'-'+flight_name[11:13]\n",
    "print (flight_date)"
   ]
  },
  {
   "cell_type": "code",
   "execution_count": 3,
   "metadata": {},
   "outputs": [
    {
     "name": "stderr",
     "output_type": "stream",
     "text": [
      "/Users/m219063/micromamba/envs/orcestra_book/lib/python3.12/site-packages/goes2go/data.py:665: FutureWarning: 'H' is deprecated and will be removed in a future version. Please use 'h' instead of 'H'.\n",
      "  within=pd.to_timedelta(config[\"nearesttime\"].get(\"within\", \"1h\")),\n",
      "/Users/m219063/micromamba/envs/orcestra_book/lib/python3.12/site-packages/goes2go/NEW.py:188: FutureWarning: 'H' is deprecated and will be removed in a future version. Please use 'h' instead of 'H'.\n",
      "  within=pd.to_timedelta(config[\"nearesttime\"].get(\"within\", \"1h\")),\n"
     ]
    }
   ],
   "source": [
    "\"Generate image with flight track superimposed on GOES visible image\"\"\"\n",
    "\n",
    "import orcestra \n",
    "from orcestra.flightplan import  LatLon, path_preview\n",
    "from orcestra.weathermaps import goes_overlay\n",
    "import matplotlib.pyplot as plt\n",
    "import seaborn as sns\n",
    "import cartopy.crs as ccrs\n",
    "import xarray as xr\n",
    "\n",
    "sns.set_context(\"talk\")\n",
    "\n",
    "flight_date = flight_name[5:9]+'-'+flight_name[9:11]+'-'+flight_name[11:13]\n",
    "tracks = xr.open_dataset('/Volumes/ORCESTRA/'+flight_name+'/bahamas/QL_'+flight_name+'_BAHAMAS_V01.nc')\n",
    "path   = LatLon(lat=tracks['IRS_LAT'], lon=tracks['IRS_LON'], label=flight_name)\n",
    "\n",
    "fig, ax = plt.subplots(\n",
    "    figsize=(15, 8),\n",
    "    facecolor='white',\n",
    "    subplot_kw  ={\"projection\": ccrs.PlateCarree()}\n",
    ")\n",
    "\n",
    "path_preview(path,ax=ax,show_waypoints=False,color='#FF5349')\n",
    "\n",
    "# goes_overlay can take some time depending on the network.  The downloaded image is cached, but the first time\n",
    "# it can take 15 min to download.  Thereafter the fetching and plotting of the cached data takes about 1 min\n",
    "#\n",
    "goes_overlay(flight_date+'T14:15',ax)\n",
    "fig.savefig(flight_name+'-track.jpeg',bbox_inches='tight')"
   ]
  },
  {
   "cell_type": "code",
   "execution_count": 23,
   "metadata": {},
   "outputs": [
    {
     "name": "stdout",
     "output_type": "stream",
     "text": [
      "Minimum distance between EarthCARE and HALO 1163.2 +/- 370.4 m at 2024-08-11T15:51:53.8 s\n"
     ]
    },
    {
     "ename": "TypeError",
     "evalue": "cannot unpack non-iterable Figure object",
     "output_type": "error",
     "traceback": [
      "\u001b[0;31m---------------------------------------------------------------------------\u001b[0m",
      "\u001b[0;31mTypeError\u001b[0m                                 Traceback (most recent call last)",
      "Cell \u001b[0;32mIn[23], line 19\u001b[0m\n\u001b[1;32m     16\u001b[0m az12, az21, dist \u001b[38;5;241m=\u001b[39m orcestra\u001b[38;5;241m.\u001b[39mflightplan\u001b[38;5;241m.\u001b[39mgeod\u001b[38;5;241m.\u001b[39minv(ec\u001b[38;5;241m.\u001b[39mlon,ec\u001b[38;5;241m.\u001b[39mlat,halo\u001b[38;5;241m.\u001b[39mIRS_LON,halo\u001b[38;5;241m.\u001b[39mIRS_LAT)\n\u001b[1;32m     17\u001b[0m \u001b[38;5;28mprint\u001b[39m (\u001b[38;5;124mf\u001b[39m\u001b[38;5;124m'\u001b[39m\u001b[38;5;124mMinimum distance between EarthCARE and HALO \u001b[39m\u001b[38;5;132;01m{\u001b[39;00mdist\u001b[38;5;241m.\u001b[39mmin()\u001b[38;5;132;01m:\u001b[39;00m\u001b[38;5;124m6.1f\u001b[39m\u001b[38;5;132;01m}\u001b[39;00m\u001b[38;5;124m +/- \u001b[39m\u001b[38;5;132;01m{\u001b[39;00msig_ec\u001b[38;5;132;01m}\u001b[39;00m\u001b[38;5;124m m at \u001b[39m\u001b[38;5;132;01m{\u001b[39;00mhalo\u001b[38;5;241m.\u001b[39mtime[dist\u001b[38;5;241m.\u001b[39margmin()]\u001b[38;5;241m.\u001b[39mastype(\u001b[38;5;28mstr\u001b[39m)\u001b[38;5;132;01m:\u001b[39;00m\u001b[38;5;124m.21s\u001b[39m\u001b[38;5;132;01m}\u001b[39;00m\u001b[38;5;124m s\u001b[39m\u001b[38;5;124m'\u001b[39m)\n\u001b[0;32m---> 19\u001b[0m fig, ax \u001b[38;5;241m=\u001b[39m plt\u001b[38;5;241m.\u001b[39mfigure(figsize \u001b[38;5;241m=\u001b[39m (\u001b[38;5;241m12\u001b[39m, \u001b[38;5;241m8\u001b[39m))\n\u001b[1;32m     21\u001b[0m plt\u001b[38;5;241m.\u001b[39mplot(halo\u001b[38;5;241m.\u001b[39mtime,dist)\n\u001b[1;32m     22\u001b[0m ax\u001b[38;5;241m.\u001b[39mset_yscale(\u001b[38;5;124m'\u001b[39m\u001b[38;5;124mlog\u001b[39m\u001b[38;5;124m'\u001b[39m)\n",
      "\u001b[0;31mTypeError\u001b[0m: cannot unpack non-iterable Figure object"
     ]
    },
    {
     "data": {
      "text/plain": [
       "<Figure size 1200x800 with 0 Axes>"
      ]
     },
     "metadata": {},
     "output_type": "display_data"
    }
   ],
   "source": [
    "import orcestra.sat\n",
    "from datetime import datetime\n",
    "import xarray as xr\n",
    "import orcestra.postprocess\n",
    "import orcestra.postprocess.level0\n",
    "import orcestra.postprocess.level1\n",
    "import matplotlib.pyplot as plt\n",
    "\n",
    "flight_time = datetime(int(flight_name[5:9]), int(flight_name[9:11]), int(flight_name[11:13]), 12, 0, 0)\n",
    "ec_track = orcestra.sat.SattrackLoader(\"EARTHCARE\", \"2024-08-10\", kind=\"PRE\").get_track_for_day(f\"{flight_time:%Y-%m-%d}\")\n",
    "ec_track = ec_track.sel(time=slice(f\"{flight_time:%Y-%m-%d} 06:00\", None))\n",
    "\n",
    "halo = xr.open_dataset('/Volumes/ORCESTRA/'+flight_name+'/bahamas/QL_'+flight_name+'_BAHAMAS_V01.nc').pipe(orcestra.postprocess.level0.bahamas).sel(time=slice(ec_track.time[0],ec_track.time[-1]))\n",
    "ec   = ec_track.interp(time=halo.time)\n",
    "sig_ec = 360*60*1852/(90*600)/2.\n",
    "az12, az21, dist = orcestra.flightplan.geod.inv(ec.lon,ec.lat,halo.IRS_LON,halo.IRS_LAT)\n",
    "print (f'Minimum distance between EarthCARE and HALO {dist.min():6.1f} +/- {sig_ec} m at {halo.time[dist.argmin()].astype(str):.21s} s')\n",
    "\n",
    "fig, ax = plt.figure(figsize = (12, 8))\n",
    "\n",
    "plt.plot(halo.time,dist)\n",
    "ax.set_yscale('log')\n",
    "\n",
    "#plt.savefig(f'{flight_index}_track.png')"
   ]
  },
  {
   "cell_type": "code",
   "execution_count": null,
   "metadata": {},
   "outputs": [],
   "source": []
  },
  {
   "cell_type": "code",
   "execution_count": 13,
   "metadata": {},
   "outputs": [
    {
     "name": "stderr",
     "output_type": "stream",
     "text": [
      "/var/folders/_9/hj56_qws3tx_n_y2gn3mqnxr0000gn/T/ipykernel_36360/3125201585.py:2: UserWarning: no explicit representation of timezones available for np.datetime64\n",
      "  xx = np.datetime64(f'{flight_date}T12:00.00.0', 'ns')\n"
     ]
    },
    {
     "ename": "ValueError",
     "evalue": "Error parsing datetime string \"2024-08-11T12:00.00.0\" at position 16",
     "output_type": "error",
     "traceback": [
      "\u001b[0;31m---------------------------------------------------------------------------\u001b[0m",
      "\u001b[0;31mValueError\u001b[0m                                Traceback (most recent call last)",
      "Cell \u001b[0;32mIn[13], line 2\u001b[0m\n\u001b[1;32m      1\u001b[0m \u001b[38;5;28;01mimport\u001b[39;00m \u001b[38;5;21;01mnumpy\u001b[39;00m \u001b[38;5;28;01mas\u001b[39;00m \u001b[38;5;21;01mnp\u001b[39;00m\n\u001b[0;32m----> 2\u001b[0m xx \u001b[38;5;241m=\u001b[39m \u001b[43mnp\u001b[49m\u001b[38;5;241;43m.\u001b[39;49m\u001b[43mdatetime64\u001b[49m\u001b[43m(\u001b[49m\u001b[38;5;124;43mf\u001b[39;49m\u001b[38;5;124;43m'\u001b[39;49m\u001b[38;5;132;43;01m{\u001b[39;49;00m\u001b[43mflight_date\u001b[49m\u001b[38;5;132;43;01m}\u001b[39;49;00m\u001b[38;5;124;43mT12:00.00.0\u001b[39;49m\u001b[38;5;124;43m'\u001b[39;49m\u001b[43m,\u001b[49m\u001b[43m \u001b[49m\u001b[38;5;124;43m'\u001b[39;49m\u001b[38;5;124;43mns\u001b[39;49m\u001b[38;5;124;43m'\u001b[39;49m\u001b[43m)\u001b[49m\n",
      "\u001b[0;31mValueError\u001b[0m: Error parsing datetime string \"2024-08-11T12:00.00.0\" at position 16"
     ]
    }
   ],
   "source": [
    "import numpy as np\n",
    "flight_time = np.datetime64(f'{flight_date}T12:00.00.0', 'ns')"
   ]
  },
  {
   "cell_type": "code",
   "execution_count": 8,
   "metadata": {},
   "outputs": [
    {
     "ename": "NameError",
     "evalue": "name 'flight_time' is not defined",
     "output_type": "error",
     "traceback": [
      "\u001b[0;31m---------------------------------------------------------------------------\u001b[0m",
      "\u001b[0;31mNameError\u001b[0m                                 Traceback (most recent call last)",
      "Cell \u001b[0;32mIn[8], line 1\u001b[0m\n\u001b[0;32m----> 1\u001b[0m \u001b[38;5;28mprint\u001b[39m(\u001b[43mflight_time\u001b[49m)\n",
      "\u001b[0;31mNameError\u001b[0m: name 'flight_time' is not defined"
     ]
    }
   ],
   "source": [
    "print(flight_time)"
   ]
  },
  {
   "cell_type": "code",
   "execution_count": null,
   "metadata": {},
   "outputs": [],
   "source": [
    "import numpy as np\n",
    "x = halo_track.where(halo_track.time > ec_track.time[ 0], drop=True)\n",
    "ht = x.where(x.time < ec_track.time[ -1], drop=True)\n",
    "print (ht.time)\n",
    "print (ec_track.time)\n"
   ]
  },
  {
   "cell_type": "code",
   "execution_count": null,
   "metadata": {},
   "outputs": [],
   "source": [
    "from scipy.interpolate import interp1d\n",
    "\n",
    "# Original data\n",
    "x_original = ec_track.time\n",
    "y_original = ec_track.lat\n",
    "\n",
    "# New indices\n",
    "x_new = ht.time\n",
    "\n",
    "# Create an interpolation function\n",
    "interpolator = interp1d(x_original, y_original, kind='linear', fill_value='extrapolate')\n",
    "\n",
    "# Interpolate to new indices\n",
    "#y_new = interpolator(x_new)\n",
    "\n",
    "print('first',x_original[0:3])\n",
    "\n",
    "print(x_new[0:3])"
   ]
  },
  {
   "cell_type": "code",
   "execution_count": null,
   "metadata": {},
   "outputs": [],
   "source": [
    "import orcestra.postprocess\n",
    "import orcestra.postprocess.level0\n",
    "import orcestra.postprocess.level1\n",
    "\n",
    "halo = xr.open_dataset('/Volumes/ORCESTRA/'+flight_name+'/bahamas/QL_'+flight_name+'_BAHAMAS_V01.nc').pipe(orcestra.postprocess.level0.bahamas).sel(time=slice(ec_track.time[0],ec_track.time[-1]))\n",
    "ec   = ec_track.interp(time=halo.time)\n",
    "sig_ec = 360*60*1852/(90*600)/2.\n",
    "az12, az21, dist = orcestra.flightplan.geod.inv(ec.lon,ec.lat,halo.IRS_LON,halo.IRS_LAT)\n",
    "print (f'Minimum distance between EarthCARE and HALO {dist.min():6.1f} +/- {sig_ec} m at {halo.time[dist.argmin()].astype(str):.21s} s')"
   ]
  },
  {
   "cell_type": "code",
   "execution_count": null,
   "metadata": {},
   "outputs": [],
   "source": [
    "#dist = np.sqrt((ec.lat-halo.IRS_LAT)**2 + (ec.lon-halo.IRS_LON)* np.cos(np.deg2rad(ec.lat+halo.IRS_LAT)/2)**2)*60*1.852\n",
    "\n"
   ]
  },
  {
   "cell_type": "code",
   "execution_count": null,
   "metadata": {},
   "outputs": [],
   "source": [
    "plt.plot(halo.time,dist)\n",
    "print (dist.min())"
   ]
  },
  {
   "cell_type": "code",
   "execution_count": null,
   "metadata": {},
   "outputs": [],
   "source": [
    "\n",
    "print (f\"EarthCARE underpass: {halo.time[dist.argmin()].astype(str):.21s} s\")"
   ]
  },
  {
   "cell_type": "code",
   "execution_count": null,
   "metadata": {},
   "outputs": [],
   "source": []
  }
 ],
 "metadata": {
  "kernelspec": {
   "display_name": "Python 3",
   "language": "python",
   "name": "python3"
  },
  "language_info": {
   "codemirror_mode": {
    "name": "ipython",
    "version": 3
   },
   "file_extension": ".py",
   "mimetype": "text/x-python",
   "name": "python",
   "nbconvert_exporter": "python",
   "pygments_lexer": "ipython3",
   "version": "3.12.0"
  }
 },
 "nbformat": 4,
 "nbformat_minor": 2
}
