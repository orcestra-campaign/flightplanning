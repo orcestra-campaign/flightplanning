{
 "cells": [
  {
   "cell_type": "code",
   "execution_count": null,
   "metadata": {},
   "outputs": [],
   "source": [
    "\"Generate image with flight track superimposed on GOES visible image\"\"\"\n",
    "\n",
    "from orcestra.flightplan import  LatLon, path_preview\n",
    "from orcestra.weathermaps import goes_overlay\n",
    "import matplotlib.pyplot as plt\n",
    "import seaborn as sns\n",
    "import cartopy.crs as ccrs\n",
    "import xarray as xr\n",
    "\n",
    "sns.set_context(\"talk\")\n",
    "\n",
    "flight_name = 'HALO-20240818a'\n",
    "flight_date = flight_name[5:9]+'-'+flight_name[9:11]+'-'+flight_name[11:13]\n",
    "tracks = xr.open_dataset('/Volumes/ORCESTRA/'+flight_name+'/bahamas/QL_'+flight_name+'_BAHAMAS_V01.nc')\n",
    "path   = LatLon(lat=tracks['IRS_LAT'], lon=tracks['IRS_LON'], label=flight_name)\n",
    "\n",
    "fig, ax = plt.subplots(\n",
    "    figsize=(15, 8),\n",
    "    facecolor='white',\n",
    "    subplot_kw  ={\"projection\": ccrs.PlateCarree()}\n",
    ")\n",
    "\n",
    "path_preview(path,ax=ax,show_waypoints=False,color='#FF5349')\n",
    "\n",
    "# goes_overlay can take some time depending on the network.  The downloaded image is cached, but the first time\n",
    "# it can take 15 min to download.  Thereafter the fetching and plotting of the cached data takes about 1 min\n",
    "#\n",
    "goes_overlay(flight_date+'T14:15',ax)\n",
    "fig.savefig(flight_name+'-track.jpeg',bbox_inches='tight')"
   ]
  }
 ],
 "metadata": {
  "kernelspec": {
   "display_name": "Python 3",
   "language": "python",
   "name": "python3"
  },
  "language_info": {
   "codemirror_mode": {
    "name": "ipython",
    "version": 3
   },
   "file_extension": ".py",
   "mimetype": "text/x-python",
   "name": "python",
   "nbconvert_exporter": "python",
   "pygments_lexer": "ipython3",
   "version": "3.12.0"
  }
 },
 "nbformat": 4,
 "nbformat_minor": 2
}
