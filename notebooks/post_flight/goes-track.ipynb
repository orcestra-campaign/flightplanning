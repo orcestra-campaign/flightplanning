{
 "cells": [
  {
   "cell_type": "code",
   "execution_count": null,
   "metadata": {},
   "outputs": [],
   "source": [
    "\"\"\"Generate image with flight track superimposed on GOES visible image\"\"\"\n",
    "\n",
    "from orcestra.flightplan import  LatLon, path_preview\n",
    "from orcestra.weathermaps import goes_overlay\n",
    "import matplotlib.pyplot as plt\n",
    "import seaborn as sns\n",
    "import cartopy.crs as ccrs\n",
    "import xarray as xr"
   ]
  },
  {
   "cell_type": "code",
   "execution_count": null,
   "metadata": {},
   "outputs": [],
   "source": [
    "sns.set_context(\"talk\")\n",
    "\n",
    "flight_name = 'HALO-20240906a'\n",
    "flight_date = flight_name[5:9]+'-'+flight_name[9:11]+'-'+flight_name[11:13]\n",
    "\n",
    "tracks = xr.open_dataset(f\"ipns://latest.orcestra-campaign.org/products/HALO/position_attitude/{flight_name}.zarr\",\n",
    "                engine=\"zarr\")\n",
    "path   = LatLon(lat=tracks['lat'], lon=tracks['lon'], label=flight_name)\n",
    "\n",
    "sat_date_time = flight_date+'T15:20'\n",
    "loc_at_sat = tracks.assign_coords({\"tid\" : tracks.time}).sel(time = sat_date_time, method = \"nearest\")\n",
    "\n",
    "fig, ax = plt.subplots(\n",
    "    figsize=(15, 8),\n",
    "    facecolor='white',\n",
    "    subplot_kw  ={\"projection\": ccrs.PlateCarree()}\n",
    ")\n",
    "\n",
    "path_preview(path,ax=ax,show_waypoints=False,color='#FF5349')\n",
    "\n",
    "sat_lon, sat_lat = float(loc_at_sat.lon.values), float(loc_at_sat.lat.values)\n",
    "plt.scatter(sat_lon, sat_lat, color='#FF5349', marker='v', s = 200)\n",
    "\n",
    "# goes_overlay can take some time depending on the network.  The downloaded image is cached, but the first time\n",
    "# it can take 15 min to download.  Thereafter the fetching and plotting of the cached data takes about 1 min\n",
    "#\n",
    "goes_overlay(sat_date_time,ax)\n",
    "fig.savefig(flight_name+'-track.jpeg',bbox_inches='tight')"
   ]
  }
 ],
 "metadata": {
  "kernelspec": {
   "display_name": "Python 3 (ipykernel)",
   "language": "python",
   "name": "python3"
  },
  "language_info": {
   "codemirror_mode": {
    "name": "ipython",
    "version": 3
   },
   "file_extension": ".py",
   "mimetype": "text/x-python",
   "name": "python",
   "nbconvert_exporter": "python",
   "pygments_lexer": "ipython3",
   "version": "3.12.0"
  }
 },
 "nbformat": 4,
 "nbformat_minor": 4
}
